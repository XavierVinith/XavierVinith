{
 "cells": [
  {
   "cell_type": "markdown",
   "id": "8d3c4a43",
   "metadata": {},
   "source": [
    "Customer Travel Churn\n",
    "\n",
    "A Tour & Travels Company Wants To Predict Whether a Customer Will Churn Or Not, Based On the Indicators Given Below.\n",
    "Help Build Predictive Models And Save The Company's Money."
   ]
  },
  {
   "cell_type": "code",
   "execution_count": 284,
   "id": "1ec9f55e",
   "metadata": {},
   "outputs": [],
   "source": [
    "# Importing Packages\n",
    "import pandas as pd\n",
    "import numpy as np\n",
    "import matplotlib.pyplot as plt\n",
    "from sklearn.preprocessing import LabelEncoder\n",
    "from sklearn.model_selection import train_test_split\n",
    "from sklearn.linear_model import LogisticRegression\n",
    "from sklearn.ensemble import RandomForestClassifier\n",
    "from sklearn.naive_bayes import GaussianNB\n",
    "from sklearn.metrics import confusion_matrix,accuracy_score,classification_report"
   ]
  },
  {
   "cell_type": "code",
   "execution_count": 285,
   "id": "9e8f21f7",
   "metadata": {},
   "outputs": [
    {
     "data": {
      "text/html": [
       "<div>\n",
       "<style scoped>\n",
       "    .dataframe tbody tr th:only-of-type {\n",
       "        vertical-align: middle;\n",
       "    }\n",
       "\n",
       "    .dataframe tbody tr th {\n",
       "        vertical-align: top;\n",
       "    }\n",
       "\n",
       "    .dataframe thead th {\n",
       "        text-align: right;\n",
       "    }\n",
       "</style>\n",
       "<table border=\"1\" class=\"dataframe\">\n",
       "  <thead>\n",
       "    <tr style=\"text-align: right;\">\n",
       "      <th></th>\n",
       "      <th>Age</th>\n",
       "      <th>FrequentFlyer</th>\n",
       "      <th>AnnualIncomeClass</th>\n",
       "      <th>ServicesOpted</th>\n",
       "      <th>AccountSyncedToSocialMedia</th>\n",
       "      <th>BookedHotelOrNot</th>\n",
       "      <th>Target</th>\n",
       "    </tr>\n",
       "  </thead>\n",
       "  <tbody>\n",
       "    <tr>\n",
       "      <th>0</th>\n",
       "      <td>34</td>\n",
       "      <td>No</td>\n",
       "      <td>Middle Income</td>\n",
       "      <td>6</td>\n",
       "      <td>No</td>\n",
       "      <td>Yes</td>\n",
       "      <td>0</td>\n",
       "    </tr>\n",
       "    <tr>\n",
       "      <th>1</th>\n",
       "      <td>34</td>\n",
       "      <td>Yes</td>\n",
       "      <td>Low Income</td>\n",
       "      <td>5</td>\n",
       "      <td>Yes</td>\n",
       "      <td>No</td>\n",
       "      <td>1</td>\n",
       "    </tr>\n",
       "    <tr>\n",
       "      <th>2</th>\n",
       "      <td>37</td>\n",
       "      <td>No</td>\n",
       "      <td>Middle Income</td>\n",
       "      <td>3</td>\n",
       "      <td>Yes</td>\n",
       "      <td>No</td>\n",
       "      <td>0</td>\n",
       "    </tr>\n",
       "    <tr>\n",
       "      <th>3</th>\n",
       "      <td>30</td>\n",
       "      <td>No</td>\n",
       "      <td>Middle Income</td>\n",
       "      <td>2</td>\n",
       "      <td>No</td>\n",
       "      <td>No</td>\n",
       "      <td>0</td>\n",
       "    </tr>\n",
       "    <tr>\n",
       "      <th>4</th>\n",
       "      <td>30</td>\n",
       "      <td>No</td>\n",
       "      <td>Low Income</td>\n",
       "      <td>1</td>\n",
       "      <td>No</td>\n",
       "      <td>No</td>\n",
       "      <td>0</td>\n",
       "    </tr>\n",
       "    <tr>\n",
       "      <th>5</th>\n",
       "      <td>27</td>\n",
       "      <td>Yes</td>\n",
       "      <td>High Income</td>\n",
       "      <td>1</td>\n",
       "      <td>No</td>\n",
       "      <td>Yes</td>\n",
       "      <td>1</td>\n",
       "    </tr>\n",
       "    <tr>\n",
       "      <th>6</th>\n",
       "      <td>34</td>\n",
       "      <td>No</td>\n",
       "      <td>Middle Income</td>\n",
       "      <td>4</td>\n",
       "      <td>Yes</td>\n",
       "      <td>Yes</td>\n",
       "      <td>0</td>\n",
       "    </tr>\n",
       "    <tr>\n",
       "      <th>7</th>\n",
       "      <td>34</td>\n",
       "      <td>No</td>\n",
       "      <td>Low Income</td>\n",
       "      <td>2</td>\n",
       "      <td>Yes</td>\n",
       "      <td>No</td>\n",
       "      <td>1</td>\n",
       "    </tr>\n",
       "    <tr>\n",
       "      <th>8</th>\n",
       "      <td>30</td>\n",
       "      <td>No</td>\n",
       "      <td>Low Income</td>\n",
       "      <td>3</td>\n",
       "      <td>No</td>\n",
       "      <td>Yes</td>\n",
       "      <td>0</td>\n",
       "    </tr>\n",
       "    <tr>\n",
       "      <th>9</th>\n",
       "      <td>36</td>\n",
       "      <td>Yes</td>\n",
       "      <td>High Income</td>\n",
       "      <td>1</td>\n",
       "      <td>No</td>\n",
       "      <td>No</td>\n",
       "      <td>1</td>\n",
       "    </tr>\n",
       "  </tbody>\n",
       "</table>\n",
       "</div>"
      ],
      "text/plain": [
       "   Age FrequentFlyer AnnualIncomeClass  ServicesOpted  \\\n",
       "0   34            No     Middle Income              6   \n",
       "1   34           Yes        Low Income              5   \n",
       "2   37            No     Middle Income              3   \n",
       "3   30            No     Middle Income              2   \n",
       "4   30            No        Low Income              1   \n",
       "5   27           Yes       High Income              1   \n",
       "6   34            No     Middle Income              4   \n",
       "7   34            No        Low Income              2   \n",
       "8   30            No        Low Income              3   \n",
       "9   36           Yes       High Income              1   \n",
       "\n",
       "  AccountSyncedToSocialMedia BookedHotelOrNot  Target  \n",
       "0                         No              Yes       0  \n",
       "1                        Yes               No       1  \n",
       "2                        Yes               No       0  \n",
       "3                         No               No       0  \n",
       "4                         No               No       0  \n",
       "5                         No              Yes       1  \n",
       "6                        Yes              Yes       0  \n",
       "7                        Yes               No       1  \n",
       "8                         No              Yes       0  \n",
       "9                         No               No       1  "
      ]
     },
     "execution_count": 285,
     "metadata": {},
     "output_type": "execute_result"
    }
   ],
   "source": [
    "# Data Importation \n",
    "d1=pd.read_csv(r\"C:\\Users\\dell\\Desktop\\ML\\Dataset\\Customertravel.csv\")\n",
    "d1.head(10)"
   ]
  },
  {
   "cell_type": "code",
   "execution_count": 286,
   "id": "cc936f61",
   "metadata": {
    "scrolled": false
   },
   "outputs": [
    {
     "name": "stdout",
     "output_type": "stream",
     "text": [
      "<class 'pandas.core.frame.DataFrame'>\n",
      "RangeIndex: 954 entries, 0 to 953\n",
      "Data columns (total 7 columns):\n",
      " #   Column                      Non-Null Count  Dtype \n",
      "---  ------                      --------------  ----- \n",
      " 0   Age                         954 non-null    int64 \n",
      " 1   FrequentFlyer               954 non-null    object\n",
      " 2   AnnualIncomeClass           954 non-null    object\n",
      " 3   ServicesOpted               954 non-null    int64 \n",
      " 4   AccountSyncedToSocialMedia  954 non-null    object\n",
      " 5   BookedHotelOrNot            954 non-null    object\n",
      " 6   Target                      954 non-null    int64 \n",
      "dtypes: int64(3), object(4)\n",
      "memory usage: 52.3+ KB\n"
     ]
    },
    {
     "data": {
      "text/plain": [
       "(954, 7)"
      ]
     },
     "execution_count": 286,
     "metadata": {},
     "output_type": "execute_result"
    }
   ],
   "source": [
    "d1.info()\n",
    "d1.shape"
   ]
  },
  {
   "cell_type": "markdown",
   "id": "e6ed775c",
   "metadata": {},
   "source": [
    "From the above Info: Target is the Churn (Yes (1) - Customer Churns / No (0) - Customer Doesn't Churn)\n",
    "\n",
    "And there are 4 object data type, for better machine understanding, we are transforming Categorical values to numerical values (0's,1's,2's)"
   ]
  },
  {
   "cell_type": "markdown",
   "id": "8690548b",
   "metadata": {},
   "source": [
    "# Label Encoding"
   ]
  },
  {
   "cell_type": "code",
   "execution_count": 287,
   "id": "132d6175",
   "metadata": {},
   "outputs": [
    {
     "name": "stdout",
     "output_type": "stream",
     "text": [
      "[0 2 1]\n",
      "0 - No 1 - No Record 2 - Yes\n"
     ]
    }
   ],
   "source": [
    "label=LabelEncoder()\n",
    "d1['FrequentFlyer']=label.fit_transform(d1['FrequentFlyer'])\n",
    "print(d1['FrequentFlyer'].unique())\n",
    "# print(d1['FrequentFlyer'].value_counts())\n",
    "print(\"0 - No 1 - No Record 2 - Yes\")"
   ]
  },
  {
   "cell_type": "code",
   "execution_count": 288,
   "id": "8ac6e9aa",
   "metadata": {},
   "outputs": [
    {
     "name": "stdout",
     "output_type": "stream",
     "text": [
      "[2 1 0]\n",
      "0 - Low Income 1 - Middle Income 2 - High Income\n"
     ]
    }
   ],
   "source": [
    "d1['AnnualIncomeClass']=label.fit_transform(d1['AnnualIncomeClass'])\n",
    "print(d1['AnnualIncomeClass'].unique())\n",
    "# print(d1['AnnualIncomeClass'].value_counts())\n",
    "print(\"0 - Low Income 1 - Middle Income 2 - High Income\")"
   ]
  },
  {
   "cell_type": "code",
   "execution_count": 289,
   "id": "72a3915f",
   "metadata": {},
   "outputs": [
    {
     "name": "stdout",
     "output_type": "stream",
     "text": [
      "[1 0]\n",
      "0 - No 1 - Yes\n"
     ]
    }
   ],
   "source": [
    "d1['BookedHotelOrNot']=label.fit_transform(d1['BookedHotelOrNot'])\n",
    "print(d1['BookedHotelOrNot'].unique())\n",
    "# print(d1['BookedHotelOrNot'].value_counts())\n",
    "print(\"0 - No 1 - Yes\")"
   ]
  },
  {
   "cell_type": "code",
   "execution_count": 290,
   "id": "e8d8b8b9",
   "metadata": {},
   "outputs": [
    {
     "name": "stdout",
     "output_type": "stream",
     "text": [
      "[0 1]\n",
      "0 - No 1 - Yes\n"
     ]
    }
   ],
   "source": [
    "d1['AccountSyncedToSocialMedia']=label.fit_transform(d1['AccountSyncedToSocialMedia'])\n",
    "print(d1['AccountSyncedToSocialMedia'].unique())\n",
    "#print(d1['AccountSyncedToSocialMedia'].value_counts())\n",
    "print(\"0 - No 1 - Yes\")"
   ]
  },
  {
   "cell_type": "code",
   "execution_count": 291,
   "id": "510fd7aa",
   "metadata": {},
   "outputs": [
    {
     "data": {
      "text/html": [
       "<div>\n",
       "<style scoped>\n",
       "    .dataframe tbody tr th:only-of-type {\n",
       "        vertical-align: middle;\n",
       "    }\n",
       "\n",
       "    .dataframe tbody tr th {\n",
       "        vertical-align: top;\n",
       "    }\n",
       "\n",
       "    .dataframe thead th {\n",
       "        text-align: right;\n",
       "    }\n",
       "</style>\n",
       "<table border=\"1\" class=\"dataframe\">\n",
       "  <thead>\n",
       "    <tr style=\"text-align: right;\">\n",
       "      <th></th>\n",
       "      <th>Age</th>\n",
       "      <th>FrequentFlyer</th>\n",
       "      <th>AnnualIncomeClass</th>\n",
       "      <th>ServicesOpted</th>\n",
       "      <th>AccountSyncedToSocialMedia</th>\n",
       "      <th>BookedHotelOrNot</th>\n",
       "      <th>Target</th>\n",
       "    </tr>\n",
       "  </thead>\n",
       "  <tbody>\n",
       "    <tr>\n",
       "      <th>0</th>\n",
       "      <td>34</td>\n",
       "      <td>0</td>\n",
       "      <td>2</td>\n",
       "      <td>6</td>\n",
       "      <td>0</td>\n",
       "      <td>1</td>\n",
       "      <td>0</td>\n",
       "    </tr>\n",
       "    <tr>\n",
       "      <th>1</th>\n",
       "      <td>34</td>\n",
       "      <td>2</td>\n",
       "      <td>1</td>\n",
       "      <td>5</td>\n",
       "      <td>1</td>\n",
       "      <td>0</td>\n",
       "      <td>1</td>\n",
       "    </tr>\n",
       "    <tr>\n",
       "      <th>2</th>\n",
       "      <td>37</td>\n",
       "      <td>0</td>\n",
       "      <td>2</td>\n",
       "      <td>3</td>\n",
       "      <td>1</td>\n",
       "      <td>0</td>\n",
       "      <td>0</td>\n",
       "    </tr>\n",
       "    <tr>\n",
       "      <th>3</th>\n",
       "      <td>30</td>\n",
       "      <td>0</td>\n",
       "      <td>2</td>\n",
       "      <td>2</td>\n",
       "      <td>0</td>\n",
       "      <td>0</td>\n",
       "      <td>0</td>\n",
       "    </tr>\n",
       "    <tr>\n",
       "      <th>4</th>\n",
       "      <td>30</td>\n",
       "      <td>0</td>\n",
       "      <td>1</td>\n",
       "      <td>1</td>\n",
       "      <td>0</td>\n",
       "      <td>0</td>\n",
       "      <td>0</td>\n",
       "    </tr>\n",
       "  </tbody>\n",
       "</table>\n",
       "</div>"
      ],
      "text/plain": [
       "   Age  FrequentFlyer  AnnualIncomeClass  ServicesOpted  \\\n",
       "0   34              0                  2              6   \n",
       "1   34              2                  1              5   \n",
       "2   37              0                  2              3   \n",
       "3   30              0                  2              2   \n",
       "4   30              0                  1              1   \n",
       "\n",
       "   AccountSyncedToSocialMedia  BookedHotelOrNot  Target  \n",
       "0                           0                 1       0  \n",
       "1                           1                 0       1  \n",
       "2                           1                 0       0  \n",
       "3                           0                 0       0  \n",
       "4                           0                 0       0  "
      ]
     },
     "execution_count": 291,
     "metadata": {},
     "output_type": "execute_result"
    }
   ],
   "source": [
    "d1.head()"
   ]
  },
  {
   "cell_type": "code",
   "execution_count": 292,
   "id": "00359abe",
   "metadata": {},
   "outputs": [
    {
     "name": "stdout",
     "output_type": "stream",
     "text": [
      "<class 'pandas.core.frame.DataFrame'>\n",
      "RangeIndex: 954 entries, 0 to 953\n",
      "Data columns (total 7 columns):\n",
      " #   Column                      Non-Null Count  Dtype\n",
      "---  ------                      --------------  -----\n",
      " 0   Age                         954 non-null    int64\n",
      " 1   FrequentFlyer               954 non-null    int32\n",
      " 2   AnnualIncomeClass           954 non-null    int32\n",
      " 3   ServicesOpted               954 non-null    int64\n",
      " 4   AccountSyncedToSocialMedia  954 non-null    int32\n",
      " 5   BookedHotelOrNot            954 non-null    int32\n",
      " 6   Target                      954 non-null    int64\n",
      "dtypes: int32(4), int64(3)\n",
      "memory usage: 37.4 KB\n"
     ]
    }
   ],
   "source": [
    "d1.info()"
   ]
  },
  {
   "cell_type": "markdown",
   "id": "77c2c585",
   "metadata": {},
   "source": [
    "# Feature Scaling"
   ]
  },
  {
   "cell_type": "code",
   "execution_count": 293,
   "id": "0dd058af",
   "metadata": {},
   "outputs": [
    {
     "data": {
      "text/plain": [
       "(954, 6)"
      ]
     },
     "execution_count": 293,
     "metadata": {},
     "output_type": "execute_result"
    }
   ],
   "source": [
    "X=d1.iloc[:,0:6].values\n",
    "X.shape"
   ]
  },
  {
   "cell_type": "code",
   "execution_count": 294,
   "id": "f56d698e",
   "metadata": {},
   "outputs": [
    {
     "data": {
      "text/plain": [
       "(954,)"
      ]
     },
     "execution_count": 294,
     "metadata": {},
     "output_type": "execute_result"
    }
   ],
   "source": [
    "y=d1.iloc[:,-1]\n",
    "y.shape"
   ]
  },
  {
   "cell_type": "code",
   "execution_count": 295,
   "id": "9cf4cd3e",
   "metadata": {},
   "outputs": [],
   "source": [
    "#plt.scatter(X,y,c=y_test,cmap='rainbow')\n",
    "#plt.show()"
   ]
  },
  {
   "cell_type": "markdown",
   "id": "2d9ebc2f",
   "metadata": {},
   "source": [
    "# Model Selection"
   ]
  },
  {
   "cell_type": "code",
   "execution_count": 296,
   "id": "4c46a345",
   "metadata": {},
   "outputs": [
    {
     "name": "stdout",
     "output_type": "stream",
     "text": [
      "training input sample (763, 6)\n",
      "training output label (763,)\n",
      "testing input sample (191, 6)\n",
      "testing output label (191,)\n"
     ]
    }
   ],
   "source": [
    "X_train,X_test,y_train,y_test=train_test_split(X,y,test_size=0.2,random_state=1)\n",
    "# xtrain - training input sample (763)\n",
    "print('training input sample',X_train.shape)\n",
    "\n",
    "# ytrain - training target label(763)\n",
    "print('training output label',y_train.shape)\n",
    "\n",
    "# xtest - testing input sample (191)\n",
    "print('testing input sample',X_test.shape)\n",
    "\n",
    "# ytest - testing target label(191)\n",
    "print('testing output label',y_test.shape)"
   ]
  },
  {
   "cell_type": "markdown",
   "id": "e8ceffb9",
   "metadata": {},
   "source": [
    "# Logistic Regression"
   ]
  },
  {
   "cell_type": "code",
   "execution_count": 297,
   "id": "ec70ed64",
   "metadata": {},
   "outputs": [],
   "source": [
    "# Logistice Regression\n",
    "# Model Invocation\n",
    "model = LogisticRegression()"
   ]
  },
  {
   "cell_type": "code",
   "execution_count": 298,
   "id": "b5277152",
   "metadata": {},
   "outputs": [
    {
     "data": {
      "text/plain": [
       "LogisticRegression()"
      ]
     },
     "execution_count": 298,
     "metadata": {},
     "output_type": "execute_result"
    }
   ],
   "source": [
    "# Fitting the model\n",
    "model.fit(X_train,y_train)"
   ]
  },
  {
   "cell_type": "code",
   "execution_count": 299,
   "id": "76f3c567",
   "metadata": {},
   "outputs": [],
   "source": [
    "# Acurracy on training data\n",
    "x_train_Pred=model.predict(X_train)\n",
    "training_data_accuracy=accuracy_score(x_train_Pred,y_train)*100"
   ]
  },
  {
   "cell_type": "code",
   "execution_count": 300,
   "id": "94f4f6fc",
   "metadata": {},
   "outputs": [],
   "source": [
    "# Acurracy on testing data\n",
    "x_test_Pred=model.predict(X_test)\n",
    "test_data_accuracy=accuracy_score(x_test_Pred,y_test)*100"
   ]
  },
  {
   "cell_type": "code",
   "execution_count": 301,
   "id": "ea660914",
   "metadata": {},
   "outputs": [
    {
     "name": "stdout",
     "output_type": "stream",
     "text": [
      "[[144  12]\n",
      " [ 20  15]]\n"
     ]
    }
   ],
   "source": [
    "#Confusion Matrix\n",
    "ypre1 = model.predict(X_test)\n",
    "print(confusion_matrix(y_test,ypre1))"
   ]
  },
  {
   "cell_type": "code",
   "execution_count": 302,
   "id": "abb9f40f",
   "metadata": {},
   "outputs": [
    {
     "name": "stdout",
     "output_type": "stream",
     "text": [
      "Classification Report is\n",
      "              precision    recall  f1-score   support\n",
      "\n",
      "           0       0.88      0.92      0.90       156\n",
      "           1       0.56      0.43      0.48        35\n",
      "\n",
      "    accuracy                           0.83       191\n",
      "   macro avg       0.72      0.68      0.69       191\n",
      "weighted avg       0.82      0.83      0.82       191\n",
      "\n"
     ]
    }
   ],
   "source": [
    "# Classification Report\n",
    "Cls_Rep=classification_report(y_test,ypre1)\n",
    "print('Classification Report is')\n",
    "print(Cls_Rep)"
   ]
  },
  {
   "cell_type": "code",
   "execution_count": 303,
   "id": "2f56bcee",
   "metadata": {},
   "outputs": [
    {
     "name": "stdout",
     "output_type": "stream",
     "text": [
      "Accuracy on training data:  81.91\n",
      "Accuracy on testing data:  83.25\n"
     ]
    }
   ],
   "source": [
    "# Acurracy Score\n",
    "print(\"Accuracy on training data: \",round(training_data_accuracy,2))\n",
    "print(\"Accuracy on testing data: \",round(test_data_accuracy,2))"
   ]
  },
  {
   "cell_type": "code",
   "execution_count": 304,
   "id": "732ba9d6",
   "metadata": {},
   "outputs": [],
   "source": [
    "#plt.scatter(X,y,c=y_test,cmap='rainbow')\n",
    "#plt.show()"
   ]
  },
  {
   "cell_type": "markdown",
   "id": "75866ff2",
   "metadata": {},
   "source": [
    "# Random Forest "
   ]
  },
  {
   "cell_type": "code",
   "execution_count": 305,
   "id": "fd1a645c",
   "metadata": {},
   "outputs": [
    {
     "data": {
      "text/plain": [
       "RandomForestClassifier(criterion='entropy', n_estimators=10)"
      ]
     },
     "execution_count": 305,
     "metadata": {},
     "output_type": "execute_result"
    }
   ],
   "source": [
    "# Randam_Forest using Entropy\n",
    "Random_Forest=RandomForestClassifier(n_estimators=10,criterion='entropy')\n",
    "Random_Forest.fit(X_train,y_train)"
   ]
  },
  {
   "cell_type": "code",
   "execution_count": 306,
   "id": "2dd009f9",
   "metadata": {},
   "outputs": [
    {
     "name": "stdout",
     "output_type": "stream",
     "text": [
      "Confusion matrix output is\n",
      "[[148   8]\n",
      " [ 12  23]]\n"
     ]
    }
   ],
   "source": [
    "# Entropy ypre calculation\n",
    "ypre=Random_Forest.predict(X_test)\n",
    "# Confusion Marix\n",
    "con_mat=confusion_matrix(y_test,ypre)\n",
    "print('Confusion matrix output is')\n",
    "print(con_mat)"
   ]
  },
  {
   "cell_type": "code",
   "execution_count": 307,
   "id": "4c581303",
   "metadata": {},
   "outputs": [
    {
     "name": "stdout",
     "output_type": "stream",
     "text": [
      "Classification Report is\n",
      "              precision    recall  f1-score   support\n",
      "\n",
      "           0       0.93      0.95      0.94       156\n",
      "           1       0.74      0.66      0.70        35\n",
      "\n",
      "    accuracy                           0.90       191\n",
      "   macro avg       0.83      0.80      0.82       191\n",
      "weighted avg       0.89      0.90      0.89       191\n",
      "\n"
     ]
    }
   ],
   "source": [
    "# Classification Report\n",
    "Cls_Rep=classification_report(y_test,ypre)\n",
    "print('Classification Report is')\n",
    "print(Cls_Rep)"
   ]
  },
  {
   "cell_type": "code",
   "execution_count": 308,
   "id": "0ba7f8a4",
   "metadata": {},
   "outputs": [
    {
     "name": "stdout",
     "output_type": "stream",
     "text": [
      "Accuracy score is\n",
      "89.53\n"
     ]
    }
   ],
   "source": [
    "# Accuracy Score\n",
    "Acc_score=accuracy_score(y_test,ypre)*100\n",
    "print('Accuracy score is')\n",
    "print(round(Acc_score,2))"
   ]
  },
  {
   "cell_type": "markdown",
   "id": "53b2d3ee",
   "metadata": {},
   "source": [
    "# Naive Bayes"
   ]
  },
  {
   "cell_type": "code",
   "execution_count": 309,
   "id": "8b226b6d",
   "metadata": {},
   "outputs": [
    {
     "data": {
      "text/plain": [
       "GaussianNB()"
      ]
     },
     "execution_count": 309,
     "metadata": {},
     "output_type": "execute_result"
    }
   ],
   "source": [
    "# Navie Bayes\n",
    "model_NB=GaussianNB()\n",
    "model_NB.fit(X_train,y_train)"
   ]
  },
  {
   "cell_type": "code",
   "execution_count": 310,
   "id": "de84eb89",
   "metadata": {},
   "outputs": [],
   "source": [
    "# Acurracy on training data\n",
    "X_train_pred_NB=model_NB.predict(X_train)\n",
    "train_data_accur_NB=accuracy_score(X_train_pred_NB,y_train)*100"
   ]
  },
  {
   "cell_type": "code",
   "execution_count": 311,
   "id": "e69a1909",
   "metadata": {},
   "outputs": [],
   "source": [
    "# Acurracy on testing data\n",
    "X_test_pred_NB=model_NB.predict(X_test)\n",
    "test_data_accur_NB=accuracy_score(X_test_pred_NB,y_test)*100"
   ]
  },
  {
   "cell_type": "code",
   "execution_count": 312,
   "id": "01c69fe8",
   "metadata": {},
   "outputs": [
    {
     "name": "stdout",
     "output_type": "stream",
     "text": [
      "Accuracy on training data:  78.77\n",
      "Accuracy on testing data:  80.63\n"
     ]
    }
   ],
   "source": [
    "# Accuracy Score\n",
    "print(\"Accuracy on training data: \",round(train_data_accur_NB,2))\n",
    "print(\"Accuracy on testing data: \",round(test_data_accur_NB,2))"
   ]
  },
  {
   "cell_type": "markdown",
   "id": "7894ef73",
   "metadata": {},
   "source": [
    "# Pie Chart"
   ]
  },
  {
   "cell_type": "code",
   "execution_count": 314,
   "id": "8b88b026",
   "metadata": {},
   "outputs": [
    {
     "data": {
      "image/png": "[encoded data removed]",
      "text/plain": [
       "<Figure size 640x480 with 1 Axes>"
      ]
     },
     "metadata": {},
     "output_type": "display_data"
    }
   ],
   "source": [
    "# Pie chart representation for Algorithm:\n",
    "\n",
    "x1 = [\"Log_Reg (83.25)\",\"Rand_For (89.53)\",\"Nav_Bay (80.63)\"]\n",
    "y1 = [test_data_accuracy,Acc_score,test_data_accur_NB]\n",
    "explode = (0, 0.1, 0)\n",
    "fig, ax = plt.subplots()\n",
    "##ax.pie(y,explode=explode,labels=,autopct='%1.1f%%',shadow=True,startangle=180)\n",
    "ax.pie(y1, explode=explode, labels=x1, autopct='%1.1f%%', pctdistance=1.2, labeldistance=0.6, shadow=True, startangle=90)\n",
    "\n",
    "plt.show()"
   ]
  },
  {
   "cell_type": "code",
   "execution_count": null,
   "id": "ffeed8a4",
   "metadata": {},
   "outputs": [],
   "source": [
    "\n"
   ]
  },
  {
   "cell_type": "code",
   "execution_count": null,
   "id": "cf618f6f",
   "metadata": {},
   "outputs": [],
   "source": []
  }
 ],
 "metadata": {
  "kernelspec": {
   "display_name": "Python 3 (ipykernel)",
   "language": "python",
   "name": "python3"
  },
  "language_info": {
   "codemirror_mode": {
    "name": "ipython",
    "version": 3
   },
   "file_extension": ".py",
   "mimetype": "text/x-python",
   "name": "python",
   "nbconvert_exporter": "python",
   "pygments_lexer": "ipython3",
   "version": "3.9.13"
  }
 },
 "nbformat": 4,
 "nbformat_minor": 5
}
